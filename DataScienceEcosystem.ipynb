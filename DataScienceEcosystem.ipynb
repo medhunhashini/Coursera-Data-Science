{
 "cells": [
  {
   "cell_type": "markdown",
   "id": "2e00eeff-3342-4573-9230-28f65e4dfce2",
   "metadata": {},
   "source": [
    "<h1>Data Science Tools and Ecosystem</h1>"
   ]
  },
  {
   "cell_type": "markdown",
   "id": "e77f50c2-d09d-4586-8172-065891ee5cb6",
   "metadata": {},
   "source": [
    "In this notebook, Data Science Tools and Ecosystem are summarized"
   ]
  },
  {
   "cell_type": "markdown",
   "id": "f0759a52-870f-4189-9621-7d4b3a205ba2",
   "metadata": {},
   "source": [
    "<b>Objectives:</b>\n",
    "<ul>\n",
    "  <li>Popular Languages in the data science</li>\n",
    "  <li>Arithmetic Operations in Python</li>\n",
    "  <li>Creating an Unordered List and Ordered List</li>\n",
    "  <li>Listing some popular libraries</li>\n",
    "</ul>"
   ]
  },
  {
   "cell_type": "markdown",
   "id": "390bfee0-6996-4888-811b-937b3f2195aa",
   "metadata": {},
   "source": [
    "Some of the popular languages that Data Scientists use are:\n",
    "<ol>\n",
    "  <li>RStudio</li>\n",
    "  <li>Python</li>\n",
    "  <li>JupyterLab</li>\n",
    "</ol>"
   ]
  },
  {
   "cell_type": "markdown",
   "id": "d358fdf6-72c6-4c47-8536-33d35453a322",
   "metadata": {},
   "source": [
    "Some of the commonly used libraries used by Data Scientists include:\n",
    "<ol>\n",
    "  <li>pandas</li>\n",
    "  <li>Sci-kit learn</li>\n",
    "  <li>Keras</li>\n",
    "</ol>"
   ]
  },
  {
   "cell_type": "markdown",
   "id": "c76a8f39-0e85-4e6f-b307-68cdb94d0d92",
   "metadata": {},
   "source": [
    "<table>\n",
    "  <tr>\n",
    "    <th>Data Science Tools</th>\n",
    "    </tr>\n",
    "  <tr>\n",
    "    <td>JupyterLab</td>\n",
    "    <td>Spyder</td>\n",
    "    <td>PyCharm</td>\n",
    "  </tr>\n",
    "</table>"
   ]
  },
  {
   "cell_type": "markdown",
   "id": "16c62ded-017d-44cc-b892-6dc176d0aead",
   "metadata": {},
   "source": [
    "<h3>Below are a few examples of evaluating arithmetic expressions in Python</h3>"
   ]
  },
  {
   "cell_type": "code",
   "execution_count": 2,
   "id": "ba3b1fef-c713-4946-b8fe-c7bbd11834bd",
   "metadata": {},
   "outputs": [
    {
     "data": {
      "text/plain": [
       "17"
      ]
     },
     "execution_count": 2,
     "metadata": {},
     "output_type": "execute_result"
    }
   ],
   "source": [
    "#This a simple arithmetic expression to mutiply then add integers\n",
    "(3*4)+5"
   ]
  },
  {
   "cell_type": "code",
   "execution_count": 4,
   "id": "41c3d302-860f-4d6d-89a6-8a8b3c24ebeb",
   "metadata": {},
   "outputs": [
    {
     "name": "stdout",
     "output_type": "stream",
     "text": [
      "3\n"
     ]
    }
   ],
   "source": [
    "# This will convert 200 minutes to hours by diving by 60.\n",
    "total_minutes = 200//60\n",
    "hours = total_minutes\n",
    "print(hours)"
   ]
  },
  {
   "cell_type": "markdown",
   "id": "b31b7579-db20-4610-a81a-4004b8979185",
   "metadata": {},
   "source": [
    "<h2>Author</h2>\n",
    "Medhunhashini DR"
   ]
  },
  {
   "cell_type": "code",
   "execution_count": null,
   "id": "b1551327-626f-41cc-9cab-860bec2c85b3",
   "metadata": {},
   "outputs": [],
   "source": []
  }
 ],
 "metadata": {
  "kernelspec": {
   "display_name": "Python",
   "language": "python",
   "name": "conda-env-python-py"
  },
  "language_info": {
   "codemirror_mode": {
    "name": "ipython",
    "version": 3
   },
   "file_extension": ".py",
   "mimetype": "text/x-python",
   "name": "python",
   "nbconvert_exporter": "python",
   "pygments_lexer": "ipython3",
   "version": "3.7.12"
  }
 },
 "nbformat": 4,
 "nbformat_minor": 5
}
